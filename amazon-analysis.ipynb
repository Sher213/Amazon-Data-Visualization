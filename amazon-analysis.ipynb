{
 "cells": [
  {
   "cell_type": "markdown",
   "metadata": {},
   "source": [
    "## Amazon Reviews Data Analysis and Visualization\n",
    "<br>\n",
    "Data used is in CSV format.<br>Collected from kaggle.com, and can be viewed <a href=https://www.kaggle.com/datasets/karkavelrajaj/amazon-sales-dataset>here</a>\n",
    ". <br>Also, look for <b>amazon.csv</b> in files."
   ]
  },
  {
   "cell_type": "code",
   "execution_count": 211,
   "metadata": {},
   "outputs": [
    {
     "data": {
      "text/html": [
       "<div>\n",
       "<style scoped>\n",
       "    .dataframe tbody tr th:only-of-type {\n",
       "        vertical-align: middle;\n",
       "    }\n",
       "\n",
       "    .dataframe tbody tr th {\n",
       "        vertical-align: top;\n",
       "    }\n",
       "\n",
       "    .dataframe thead th {\n",
       "        text-align: right;\n",
       "    }\n",
       "</style>\n",
       "<table border=\"1\" class=\"dataframe\">\n",
       "  <thead>\n",
       "    <tr style=\"text-align: right;\">\n",
       "      <th></th>\n",
       "      <th>product_id</th>\n",
       "      <th>product_name</th>\n",
       "      <th>category</th>\n",
       "      <th>discounted_price</th>\n",
       "      <th>actual_price</th>\n",
       "      <th>discount_percentage</th>\n",
       "      <th>rating</th>\n",
       "      <th>rating_count</th>\n",
       "      <th>about_product</th>\n",
       "      <th>user_id</th>\n",
       "      <th>user_name</th>\n",
       "      <th>review_id</th>\n",
       "      <th>review_title</th>\n",
       "      <th>review_content</th>\n",
       "      <th>img_link</th>\n",
       "      <th>product_link</th>\n",
       "    </tr>\n",
       "  </thead>\n",
       "  <tbody>\n",
       "    <tr>\n",
       "      <th>0</th>\n",
       "      <td>B07JW9H4J1</td>\n",
       "      <td>Wayona Nylon Braided USB to Lightning Fast Cha...</td>\n",
       "      <td>Computers&amp;Accessories|Accessories&amp;Peripherals|...</td>\n",
       "      <td>₹399</td>\n",
       "      <td>₹1,099</td>\n",
       "      <td>64%</td>\n",
       "      <td>4.2</td>\n",
       "      <td>24,269</td>\n",
       "      <td>High Compatibility : Compatible With iPhone 12...</td>\n",
       "      <td>AG3D6O4STAQKAY2UVGEUV46KN35Q,AHMY5CWJMMK5BJRBB...</td>\n",
       "      <td>Manav,Adarsh gupta,Sundeep,S.Sayeed Ahmed,jasp...</td>\n",
       "      <td>R3HXWT0LRP0NMF,R2AJM3LFTLZHFO,R6AQJGUP6P86,R1K...</td>\n",
       "      <td>Satisfied,Charging is really fast,Value for mo...</td>\n",
       "      <td>Looks durable Charging is fine tooNo complains...</td>\n",
       "      <td>https://m.media-amazon.com/images/W/WEBP_40237...</td>\n",
       "      <td>https://www.amazon.in/Wayona-Braided-WN3LG1-Sy...</td>\n",
       "    </tr>\n",
       "    <tr>\n",
       "      <th>1</th>\n",
       "      <td>B098NS6PVG</td>\n",
       "      <td>Ambrane Unbreakable 60W / 3A Fast Charging 1.5...</td>\n",
       "      <td>Computers&amp;Accessories|Accessories&amp;Peripherals|...</td>\n",
       "      <td>₹199</td>\n",
       "      <td>₹349</td>\n",
       "      <td>43%</td>\n",
       "      <td>4.0</td>\n",
       "      <td>43,994</td>\n",
       "      <td>Compatible with all Type C enabled devices, be...</td>\n",
       "      <td>AECPFYFQVRUWC3KGNLJIOREFP5LQ,AGYYVPDD7YG7FYNBX...</td>\n",
       "      <td>ArdKn,Nirbhay kumar,Sagar Viswanathan,Asp,Plac...</td>\n",
       "      <td>RGIQEG07R9HS2,R1SMWZQ86XIN8U,R2J3Y1WL29GWDE,RY...</td>\n",
       "      <td>A Good Braided Cable for Your Type C Device,Go...</td>\n",
       "      <td>I ordered this cable to connect my phone to An...</td>\n",
       "      <td>https://m.media-amazon.com/images/W/WEBP_40237...</td>\n",
       "      <td>https://www.amazon.in/Ambrane-Unbreakable-Char...</td>\n",
       "    </tr>\n",
       "    <tr>\n",
       "      <th>2</th>\n",
       "      <td>B096MSW6CT</td>\n",
       "      <td>Sounce Fast Phone Charging Cable &amp; Data Sync U...</td>\n",
       "      <td>Computers&amp;Accessories|Accessories&amp;Peripherals|...</td>\n",
       "      <td>₹199</td>\n",
       "      <td>₹1,899</td>\n",
       "      <td>90%</td>\n",
       "      <td>3.9</td>\n",
       "      <td>7,928</td>\n",
       "      <td>【 Fast Charger&amp; Data Sync】-With built-in safet...</td>\n",
       "      <td>AGU3BBQ2V2DDAMOAKGFAWDDQ6QHA,AESFLDV2PT363T2AQ...</td>\n",
       "      <td>Kunal,Himanshu,viswanath,sai niharka,saqib mal...</td>\n",
       "      <td>R3J3EQQ9TZI5ZJ,R3E7WBGK7ID0KV,RWU79XKQ6I1QF,R2...</td>\n",
       "      <td>Good speed for earlier versions,Good Product,W...</td>\n",
       "      <td>Not quite durable and sturdy,https://m.media-a...</td>\n",
       "      <td>https://m.media-amazon.com/images/W/WEBP_40237...</td>\n",
       "      <td>https://www.amazon.in/Sounce-iPhone-Charging-C...</td>\n",
       "    </tr>\n",
       "    <tr>\n",
       "      <th>3</th>\n",
       "      <td>B08HDJ86NZ</td>\n",
       "      <td>boAt Deuce USB 300 2 in 1 Type-C &amp; Micro USB S...</td>\n",
       "      <td>Computers&amp;Accessories|Accessories&amp;Peripherals|...</td>\n",
       "      <td>₹329</td>\n",
       "      <td>₹699</td>\n",
       "      <td>53%</td>\n",
       "      <td>4.2</td>\n",
       "      <td>94,363</td>\n",
       "      <td>The boAt Deuce USB 300 2 in 1 cable is compati...</td>\n",
       "      <td>AEWAZDZZJLQUYVOVGBEUKSLXHQ5A,AG5HTSFRRE6NL3M5S...</td>\n",
       "      <td>Omkar dhale,JD,HEMALATHA,Ajwadh a.,amar singh ...</td>\n",
       "      <td>R3EEUZKKK9J36I,R3HJVYCLYOY554,REDECAZ7AMPQC,R1...</td>\n",
       "      <td>Good product,Good one,Nice,Really nice product...</td>\n",
       "      <td>Good product,long wire,Charges good,Nice,I bou...</td>\n",
       "      <td>https://m.media-amazon.com/images/I/41V5FtEWPk...</td>\n",
       "      <td>https://www.amazon.in/Deuce-300-Resistant-Tang...</td>\n",
       "    </tr>\n",
       "    <tr>\n",
       "      <th>4</th>\n",
       "      <td>B08CF3B7N1</td>\n",
       "      <td>Portronics Konnect L 1.2M Fast Charging 3A 8 P...</td>\n",
       "      <td>Computers&amp;Accessories|Accessories&amp;Peripherals|...</td>\n",
       "      <td>₹154</td>\n",
       "      <td>₹399</td>\n",
       "      <td>61%</td>\n",
       "      <td>4.2</td>\n",
       "      <td>16,905</td>\n",
       "      <td>[CHARGE &amp; SYNC FUNCTION]- This cable comes wit...</td>\n",
       "      <td>AE3Q6KSUK5P75D5HFYHCRAOLODSA,AFUGIFH5ZAFXRDSZH...</td>\n",
       "      <td>rahuls6099,Swasat Borah,Ajay Wadke,Pranali,RVK...</td>\n",
       "      <td>R1BP4L2HH9TFUP,R16PVJEXKV6QZS,R2UPDB81N66T4P,R...</td>\n",
       "      <td>As good as original,Decent,Good one for second...</td>\n",
       "      <td>Bought this instead of original apple, does th...</td>\n",
       "      <td>https://m.media-amazon.com/images/W/WEBP_40237...</td>\n",
       "      <td>https://www.amazon.in/Portronics-Konnect-POR-1...</td>\n",
       "    </tr>\n",
       "  </tbody>\n",
       "</table>\n",
       "</div>"
      ],
      "text/plain": [
       "   product_id  ...                                       product_link\n",
       "0  B07JW9H4J1  ...  https://www.amazon.in/Wayona-Braided-WN3LG1-Sy...\n",
       "1  B098NS6PVG  ...  https://www.amazon.in/Ambrane-Unbreakable-Char...\n",
       "2  B096MSW6CT  ...  https://www.amazon.in/Sounce-iPhone-Charging-C...\n",
       "3  B08HDJ86NZ  ...  https://www.amazon.in/Deuce-300-Resistant-Tang...\n",
       "4  B08CF3B7N1  ...  https://www.amazon.in/Portronics-Konnect-POR-1...\n",
       "\n",
       "[5 rows x 16 columns]"
      ]
     },
     "execution_count": 211,
     "metadata": {},
     "output_type": "execute_result"
    }
   ],
   "source": [
    "import pandas as pd\n",
    "data = pd.read_csv('amazon.csv')\n",
    "data[:5]"
   ]
  },
  {
   "cell_type": "markdown",
   "metadata": {},
   "source": [
    "### Data Cleaning and Usability"
   ]
  },
  {
   "cell_type": "code",
   "execution_count": 212,
   "metadata": {},
   "outputs": [
    {
     "data": {
      "text/plain": [
       "product_id             0\n",
       "product_name           0\n",
       "category               0\n",
       "discounted_price       0\n",
       "actual_price           0\n",
       "discount_percentage    0\n",
       "rating                 0\n",
       "rating_count           2\n",
       "about_product          0\n",
       "user_id                0\n",
       "user_name              0\n",
       "review_id              0\n",
       "review_title           0\n",
       "review_content         0\n",
       "img_link               0\n",
       "product_link           0\n",
       "dtype: int64"
      ]
     },
     "execution_count": 212,
     "metadata": {},
     "output_type": "execute_result"
    }
   ],
   "source": [
    "#check null values\n",
    "data.isnull().sum()"
   ]
  },
  {
   "cell_type": "code",
   "execution_count": 213,
   "metadata": {},
   "outputs": [
    {
     "data": {
      "text/plain": [
       "product_id             0\n",
       "product_name           0\n",
       "category               0\n",
       "discounted_price       0\n",
       "actual_price           0\n",
       "discount_percentage    0\n",
       "rating                 0\n",
       "rating_count           0\n",
       "about_product          0\n",
       "user_id                0\n",
       "user_name              0\n",
       "review_id              0\n",
       "review_title           0\n",
       "review_content         0\n",
       "img_link               0\n",
       "product_link           0\n",
       "dtype: int64"
      ]
     },
     "execution_count": 213,
     "metadata": {},
     "output_type": "execute_result"
    }
   ],
   "source": [
    "#remove nullities\n",
    "data = data.dropna()\n",
    "data.isnull().sum()"
   ]
  },
  {
   "cell_type": "code",
   "execution_count": 214,
   "metadata": {},
   "outputs": [
    {
     "data": {
      "text/plain": [
       "0    64\n",
       "1    43\n",
       "2    90\n",
       "3    53\n",
       "4    61\n",
       "Name: disc_perc_int, dtype: int64"
      ]
     },
     "execution_count": 214,
     "metadata": {},
     "output_type": "execute_result"
    }
   ],
   "source": [
    "#add column of discount price as integer\n",
    "data['disc_perc_int'] = data['discount_percentage'].str.replace('%', '')\n",
    "data['disc_perc_int'] = pd.to_numeric(data['disc_perc_int'], errors='coerce')\n",
    "data['disc_perc_int'].head()"
   ]
  },
  {
   "cell_type": "code",
   "execution_count": 215,
   "metadata": {},
   "outputs": [
    {
     "name": "stdout",
     "output_type": "stream",
     "text": [
      "product_id                                             B08L12N5H1\n",
      "product_name    Eureka Forbes car Vac 100 Watts Powerful Sucti...\n",
      "rating                                                          |\n",
      "Name: 1279, dtype: object\n",
      "\n",
      "\n",
      "A value with invalid rating: | at row 1279\n"
     ]
    }
   ],
   "source": [
    "#check ratings for invalid data\n",
    "a = [] #list NaNs\n",
    "for i, row in data.iterrows():\n",
    "    if data['rating'][i].replace(\".\", \"\").isnumeric():\n",
    "        continue\n",
    "    else:\n",
    "        print(row[['product_id', 'product_name', 'rating']])\n",
    "        print('\\n\\nA value with invalid rating: ' + row['rating'] + \n",
    "              ' at row ' + str(i))\n",
    "        a.append(data['rating'][i])"
   ]
  },
  {
   "cell_type": "code",
   "execution_count": 216,
   "metadata": {},
   "outputs": [],
   "source": [
    "#imputate all invalid occurences with 0\n",
    "for i in range(len(a)): \n",
    "    data['rating'] = data['rating'].replace(a[i], '0')"
   ]
  },
  {
   "cell_type": "markdown",
   "metadata": {},
   "source": [
    "<hr>"
   ]
  },
  {
   "cell_type": "code",
   "execution_count": 217,
   "metadata": {},
   "outputs": [
    {
     "name": "stdout",
     "output_type": "stream",
     "text": [
      "#ff0000\n",
      "#ff1700\n",
      "#ff2e00\n",
      "#ff4600\n",
      "#ff5d00\n",
      "#ff7400\n",
      "#ff8b00\n",
      "#ffa200\n",
      "#ffb900\n",
      "#ffd100\n",
      "#ffe800\n",
      "#ffff00\n"
     ]
    }
   ],
   "source": [
    "import numpy as np\n",
    "import matplotlib.pyplot as plt\n",
    "import matplotlib.cm as cm\n",
    "from matplotlib.colors import rgb2hex\n",
    "%matplotlib inline\n",
    "\n",
    "#(Credit for the below code goes to @ANZ check out his notebook as well)\n",
    "cmap = cm.get_cmap('autumn',12) #colormap and number\n",
    "col_def =[]\n",
    "for i in range(cmap.N):\n",
    "    rgb = cmap(i)[:3]\n",
    "    col_def.append(rgb2hex(rgb))\n",
    "    print(rgb2hex(rgb))"
   ]
  },
  {
   "cell_type": "markdown",
   "metadata": {},
   "source": [
    "<hr>"
   ]
  },
  {
   "cell_type": "markdown",
   "metadata": {},
   "source": [
    "### Number of Products per *Generalized* Catagory"
   ]
  },
  {
   "cell_type": "code",
   "execution_count": 218,
   "metadata": {},
   "outputs": [
    {
     "data": {
      "image/png": "[encoded data removed]",
      "text/plain": [
       "<Figure size 1296x864 with 2 Axes>"
      ]
     },
     "metadata": {
      "needs_background": "light"
     },
     "output_type": "display_data"
    }
   ],
   "source": [
    "#get general categories labels and num of each occurences in order they appear\n",
    "for i, row in data.iterrows():\n",
    "    data.loc[i, 'category_trunc'] = (row['category'].split('|')[0])\n",
    "labels = pd.Series(data['category_trunc']).value_counts().index.tolist()\n",
    "sizes = data['category_trunc'].value_counts()\n",
    "\n",
    "explode = (0.1, 0.1, 0.1, 0.4)\n",
    "fig, ax = plt.subplots(1,2,figsize=(18,12))\n",
    "\n",
    "#plot bargraph of all categories\n",
    "x_pos = np.arange(len(labels[:4]))\n",
    "ax[0].bar(x_pos, sizes[:4], align='center', color=col_def, alpha=0.5)\n",
    "ax[0].set_title('Product Categories')\n",
    "ax[0].set_xticks(x_pos)\n",
    "ax[0].set_xticklabels(labels)\n",
    "ax[0].set_ylabel('Number of products')\n",
    "ax[0].yaxis.grid(True)\n",
    "\n",
    "#plot pie chart of only top 4 catagories\n",
    "ax[1].pie(sizes[:4], labels=labels[:4], colors=col_def, explode=explode, \n",
    "       autopct='%1.1f%%')\n",
    "ax[1].axis('equal')\n",
    "ax[1].set_title('Product Categories')\n",
    "\n",
    "plt.show()"
   ]
  },
  {
   "cell_type": "markdown",
   "metadata": {},
   "source": [
    "<hr>"
   ]
  },
  {
   "cell_type": "markdown",
   "metadata": {},
   "source": [
    "### Let's Have a Closer Look at the Different types of Electronics\n",
    "Get more specialized type of products in electronics catagory."
   ]
  },
  {
   "cell_type": "code",
   "execution_count": 219,
   "metadata": {
    "scrolled": false
   },
   "outputs": [
    {
     "name": "stdout",
     "output_type": "stream",
     "text": [
      "Catagories in Electronics:\n",
      "\n",
      "1. HomeTheater,TV&Video\n",
      "\n",
      "2. Mobiles&Accessories\n",
      "\n",
      "3. WearableTechnology\n",
      "\n",
      "4. Headphones,Earbuds&Accessories\n",
      "\n",
      "5. HomeAudio\n",
      "\n",
      "6. Cameras&Photography\n",
      "\n",
      "\n"
     ]
    }
   ],
   "source": [
    "temp = np.array([]) #1. create temp to store array of relevant entries\n",
    "for i, row in data.iterrows():\n",
    "    data.loc[i, 'category_trunc2'] = (row['category'].split('|')[1])\n",
    "    if data.loc[i, 'category_trunc'] == 'Electronics': #2. if in electronics...\n",
    "        temp = np.append(temp, data.loc[i,'category_trunc2']) #... append>temp\n",
    "\n",
    "#3. convert to pd Series and get labels and sizes (only first 6)\n",
    "labels = pd.Series(temp).value_counts().index.tolist()[:6]\n",
    "sizes = pd.Series(temp).value_counts()[:6]\n",
    "\n",
    "print(\"Catagories in Electronics:\\n\")\n",
    "[print(str(i+1) + '. ' + labels[i] + '\\n') for i in range(len(labels))]\n",
    "print('')"
   ]
  },
  {
   "cell_type": "code",
   "execution_count": 220,
   "metadata": {},
   "outputs": [
    {
     "data": {
      "image/png": "[encoded data removed]",
      "text/plain": [
       "<Figure size 1728x864 with 2 Axes>"
      ]
     },
     "metadata": {
      "needs_background": "light"
     },
     "output_type": "display_data"
    }
   ],
   "source": [
    "explode = [0.1] * (len(labels)-1)\n",
    "explode.append(0.4)\n",
    "\n",
    "fig, ax = plt.subplots(1,2,figsize=(24,12))\n",
    "\n",
    "#plot bargraph of all categories\n",
    "x_pos = np.arange(len(labels))\n",
    "ax[0].bar(x_pos, sizes, align='center', color=col_def, alpha=0.5)\n",
    "ax[0].set_title('Electronic Categories')\n",
    "ax[0].set_xticks(x_pos)\n",
    "ax[0].set_xticklabels(labels)\n",
    "ax[0].set_xticklabels(labels, rotation=90)\n",
    "ax[0].set_ylabel('Number of products')\n",
    "ax[0].yaxis.grid(True)\n",
    "\n",
    "#plot pie chart of only top 4 catagories\n",
    "ax[1].pie(sizes, labels=labels, colors=col_def, explode=explode, \n",
    "       autopct='%1.1f%%')\n",
    "ax[1].axis('equal')\n",
    "ax[1].set_title('Electronic Categories')\n",
    "\n",
    "plt.show()"
   ]
  },
  {
   "cell_type": "markdown",
   "metadata": {},
   "source": [
    "<hr>"
   ]
  },
  {
   "cell_type": "markdown",
   "metadata": {},
   "source": [
    "### Highest & Average Discount by Category and Standard Deviation\n",
    "For each general category, find the highest, and mean discount percentage."
   ]
  },
  {
   "cell_type": "code",
   "execution_count": 221,
   "metadata": {},
   "outputs": [
    {
     "data": {
      "text/html": [
       "<div>\n",
       "<style scoped>\n",
       "    .dataframe tbody tr th:only-of-type {\n",
       "        vertical-align: middle;\n",
       "    }\n",
       "\n",
       "    .dataframe tbody tr th {\n",
       "        vertical-align: top;\n",
       "    }\n",
       "\n",
       "    .dataframe thead th {\n",
       "        text-align: right;\n",
       "    }\n",
       "</style>\n",
       "<table border=\"1\" class=\"dataframe\">\n",
       "  <thead>\n",
       "    <tr style=\"text-align: right;\">\n",
       "      <th></th>\n",
       "      <th>category_trunc</th>\n",
       "      <th>discount_percentage</th>\n",
       "    </tr>\n",
       "  </thead>\n",
       "  <tbody>\n",
       "    <tr>\n",
       "      <th>0</th>\n",
       "      <td>Computers&amp;Accessories</td>\n",
       "      <td>64%</td>\n",
       "    </tr>\n",
       "    <tr>\n",
       "      <th>1</th>\n",
       "      <td>Computers&amp;Accessories</td>\n",
       "      <td>43%</td>\n",
       "    </tr>\n",
       "    <tr>\n",
       "      <th>2</th>\n",
       "      <td>Computers&amp;Accessories</td>\n",
       "      <td>90%</td>\n",
       "    </tr>\n",
       "    <tr>\n",
       "      <th>3</th>\n",
       "      <td>Computers&amp;Accessories</td>\n",
       "      <td>53%</td>\n",
       "    </tr>\n",
       "    <tr>\n",
       "      <th>4</th>\n",
       "      <td>Computers&amp;Accessories</td>\n",
       "      <td>61%</td>\n",
       "    </tr>\n",
       "  </tbody>\n",
       "</table>\n",
       "</div>"
      ],
      "text/plain": [
       "          category_trunc discount_percentage\n",
       "0  Computers&Accessories                 64%\n",
       "1  Computers&Accessories                 43%\n",
       "2  Computers&Accessories                 90%\n",
       "3  Computers&Accessories                 53%\n",
       "4  Computers&Accessories                 61%"
      ]
     },
     "execution_count": 221,
     "metadata": {},
     "output_type": "execute_result"
    }
   ],
   "source": [
    "#a look at the discount percentages\n",
    "data[['category_trunc', 'discount_percentage']].head()"
   ]
  },
  {
   "cell_type": "code",
   "execution_count": 222,
   "metadata": {},
   "outputs": [
    {
     "name": "stdout",
     "output_type": "stream",
     "text": [
      "product_name           rts [2 Pack] Mini USB C Type C Adapter Plug, T...\n",
      "category_trunc                                     Computers&Accessories\n",
      "discount_percentage                                                  94%\n",
      "discounted_price                                                    ₹294\n",
      "actual_price                                                      ₹4,999\n",
      "rating                                                               4.3\n",
      "rating_count                                                       4,426\n",
      "Name: 695, dtype: object\n"
     ]
    }
   ],
   "source": [
    "#Highest discounted item\n",
    "print(data.loc[data['disc_perc_int'].idxmax(),\n",
    "               ['product_name', 'category_trunc', 'discount_percentage', \n",
    "                'discounted_price', 'actual_price', 'rating', 'rating_count']])"
   ]
  },
  {
   "cell_type": "code",
   "execution_count": 223,
   "metadata": {},
   "outputs": [
    {
     "data": {
      "text/html": [
       "<div>\n",
       "<style scoped>\n",
       "    .dataframe tbody tr th:only-of-type {\n",
       "        vertical-align: middle;\n",
       "    }\n",
       "\n",
       "    .dataframe tbody tr th {\n",
       "        vertical-align: top;\n",
       "    }\n",
       "\n",
       "    .dataframe thead th {\n",
       "        text-align: right;\n",
       "    }\n",
       "</style>\n",
       "<table border=\"1\" class=\"dataframe\">\n",
       "  <thead>\n",
       "    <tr style=\"text-align: right;\">\n",
       "      <th></th>\n",
       "      <th>Category</th>\n",
       "      <th>Mean Discount</th>\n",
       "      <th>Standard Deviation</th>\n",
       "    </tr>\n",
       "  </thead>\n",
       "  <tbody>\n",
       "    <tr>\n",
       "      <th>0</th>\n",
       "      <td>Electronics</td>\n",
       "      <td>50.828897</td>\n",
       "      <td>22.007716</td>\n",
       "    </tr>\n",
       "    <tr>\n",
       "      <th>1</th>\n",
       "      <td>Computers&amp;Accessories</td>\n",
       "      <td>53.920177</td>\n",
       "      <td>19.793341</td>\n",
       "    </tr>\n",
       "    <tr>\n",
       "      <th>2</th>\n",
       "      <td>Home&amp;Kitchen</td>\n",
       "      <td>40.120536</td>\n",
       "      <td>18.427918</td>\n",
       "    </tr>\n",
       "    <tr>\n",
       "      <th>3</th>\n",
       "      <td>OfficeProducts</td>\n",
       "      <td>12.354839</td>\n",
       "      <td>17.914759</td>\n",
       "    </tr>\n",
       "    <tr>\n",
       "      <th>4</th>\n",
       "      <td>HomeImprovement</td>\n",
       "      <td>57.500000</td>\n",
       "      <td>0.500000</td>\n",
       "    </tr>\n",
       "    <tr>\n",
       "      <th>5</th>\n",
       "      <td>MusicalInstruments</td>\n",
       "      <td>46.000000</td>\n",
       "      <td>14.000000</td>\n",
       "    </tr>\n",
       "    <tr>\n",
       "      <th>6</th>\n",
       "      <td>Car&amp;Motorbike</td>\n",
       "      <td>42.000000</td>\n",
       "      <td>0.000000</td>\n",
       "    </tr>\n",
       "    <tr>\n",
       "      <th>7</th>\n",
       "      <td>Toys&amp;Games</td>\n",
       "      <td>0.000000</td>\n",
       "      <td>0.000000</td>\n",
       "    </tr>\n",
       "    <tr>\n",
       "      <th>8</th>\n",
       "      <td>Health&amp;PersonalCare</td>\n",
       "      <td>53.000000</td>\n",
       "      <td>0.000000</td>\n",
       "    </tr>\n",
       "  </tbody>\n",
       "</table>\n",
       "</div>"
      ],
      "text/plain": [
       "                Category  Mean Discount  Standard Deviation\n",
       "0            Electronics      50.828897           22.007716\n",
       "1  Computers&Accessories      53.920177           19.793341\n",
       "2           Home&Kitchen      40.120536           18.427918\n",
       "3         OfficeProducts      12.354839           17.914759\n",
       "4        HomeImprovement      57.500000            0.500000\n",
       "5     MusicalInstruments      46.000000           14.000000\n",
       "6          Car&Motorbike      42.000000            0.000000\n",
       "7             Toys&Games       0.000000            0.000000\n",
       "8    Health&PersonalCare      53.000000            0.000000"
      ]
     },
     "execution_count": 223,
     "metadata": {},
     "output_type": "execute_result"
    }
   ],
   "source": [
    "from numpy import std\n",
    "\n",
    "a = pd.DataFrame() #1. Create empty data frame to hold category and mean...\n",
    "cat_trunc = pd.Series(data['category_trunc']).value_counts().index #... disc %\n",
    "\n",
    "for j in range(len(cat_trunc)):\n",
    "    t1 = 0\n",
    "    t2 = 0\n",
    "    t3 =[]\n",
    "    #2. count number of products in category\n",
    "    for i, row in data.iterrows():\n",
    "        if data['category_trunc'][i] ==cat_trunc[j]:\n",
    "            t1+=1\n",
    "    #3. tally sum of discount percentages\n",
    "    for i, row in data.iterrows():\n",
    "        if data['category_trunc'][i] == cat_trunc[j]:\n",
    "            t2 += data['disc_perc_int'][i]\n",
    "            t3.append(data['disc_perc_int'][i])\n",
    "    \n",
    "    #4. store in new dataframe -> Category | Mean Discount\n",
    "    a.loc[j, 'Category'] = cat_trunc[j]\n",
    "    a.loc[j, 'Mean Discount'] = t2 / t1\n",
    "    a.loc[j, 'Standard Deviation'] = std(t3)\n",
    "\n",
    "a"
   ]
  },
  {
   "cell_type": "markdown",
   "metadata": {},
   "source": [
    "<hr>"
   ]
  },
  {
   "cell_type": "markdown",
   "metadata": {},
   "source": [
    "### Correlation of Discount to Rating\n",
    "Check for correlation between Discount Percentage and Review Score."
   ]
  },
  {
   "cell_type": "code",
   "execution_count": 224,
   "metadata": {},
   "outputs": [
    {
     "name": "stdout",
     "output_type": "stream",
     "text": [
      "\n",
      " 0s  1s  2s   3s    4s  5s\n",
      "  1   0   6  347  1107   2\n"
     ]
    }
   ],
   "source": [
    "#see how many 0s, 1s, 2s, 3s, 4s, 5s in ratings\n",
    "data['rating'] = data['rating'].astype(float) #convert ratings to float\n",
    "a = [0] * 6 # [# of 0s, # of 1s, ... , #of 5s]\n",
    "\n",
    "for i in data['rating']:\n",
    "    if 0 <= i < 1:\n",
    "        a[0]+=1\n",
    "    elif 1 <= i < 2:\n",
    "        a[1]+=1\n",
    "    elif 2 <= i < 3:\n",
    "        a[2]+=1\n",
    "    elif 3 <= i < 4:\n",
    "        a[3]+=1\n",
    "    elif 4 <= i < 5:\n",
    "        a[4]+=1\n",
    "    else:\n",
    "        a[5]+=1\n",
    "\n",
    "print('\\n' + pd.DataFrame([a], columns=['0s', '1s', '2s', '3s', '4s', '5s']).to_string(index=False))"
   ]
  },
  {
   "cell_type": "markdown",
   "metadata": {},
   "source": [
    "As we can see, most reviews are either 3 or 4 stars. The **y-axis** will take this into account."
   ]
  },
  {
   "cell_type": "code",
   "execution_count": 225,
   "metadata": {},
   "outputs": [
    {
     "data": {
      "image/png": "[encoded data removed]",
      "text/plain": [
       "<Figure size 432x288 with 1 Axes>"
      ]
     },
     "metadata": {
      "needs_background": "light"
     },
     "output_type": "display_data"
    }
   ],
   "source": [
    "#x and y values\n",
    "x = data['disc_perc_int']\n",
    "y = data['rating']\n",
    "\n",
    "fig, ax = plt.subplots(figsize = (6,4))\n",
    "ax.scatter(x, y)\n",
    "\n",
    "ax.set_xlabel(\"Discount Percentage\")\n",
    "ax.set_ylabel(\"Rating\")\n",
    "\n",
    "#set limit of y axis\n",
    "plt.ylim(2.5, 5)\n",
    "\n",
    "#line of best fit\n",
    "m, c = np.polyfit(x, y, 1)\n",
    "y_fit = m * x + c\n",
    "plt.plot(x, y_fit, 'r')\n",
    "\n",
    "plt.show()"
   ]
  },
  {
   "cell_type": "markdown",
   "metadata": {},
   "source": [
    "As can be see, there is little to no correlation between discount and rating."
   ]
  },
  {
   "cell_type": "markdown",
   "metadata": {},
   "source": [
    "<hr>"
   ]
  },
  {
   "cell_type": "markdown",
   "metadata": {},
   "source": [
    "### NLP: Sentiment analysis of User Reviews"
   ]
  },
  {
   "cell_type": "markdown",
   "metadata": {},
   "source": [
    "Use nltk to parse and pre process word content data."
   ]
  },
  {
   "cell_type": "code",
   "execution_count": 226,
   "metadata": {},
   "outputs": [
    {
     "name": "stdout",
     "output_type": "stream",
     "text": [
      "\n",
      "\n",
      "A comparison of review title and the word count of the review content.\n"
     ]
    },
    {
     "data": {
      "text/html": [
       "<div>\n",
       "<style scoped>\n",
       "    .dataframe tbody tr th:only-of-type {\n",
       "        vertical-align: middle;\n",
       "    }\n",
       "\n",
       "    .dataframe tbody tr th {\n",
       "        vertical-align: top;\n",
       "    }\n",
       "\n",
       "    .dataframe thead th {\n",
       "        text-align: right;\n",
       "    }\n",
       "</style>\n",
       "<table border=\"1\" class=\"dataframe\">\n",
       "  <thead>\n",
       "    <tr style=\"text-align: right;\">\n",
       "      <th></th>\n",
       "      <th>review_title</th>\n",
       "      <th>content_word_count</th>\n",
       "    </tr>\n",
       "  </thead>\n",
       "  <tbody>\n",
       "    <tr>\n",
       "      <th>0</th>\n",
       "      <td>Satisfied,Charging is really fast,Value for mo...</td>\n",
       "      <td>60</td>\n",
       "    </tr>\n",
       "    <tr>\n",
       "      <th>1</th>\n",
       "      <td>A Good Braided Cable for Your Type C Device,Go...</td>\n",
       "      <td>201</td>\n",
       "    </tr>\n",
       "    <tr>\n",
       "      <th>2</th>\n",
       "      <td>Good speed for earlier versions,Good Product,W...</td>\n",
       "      <td>13</td>\n",
       "    </tr>\n",
       "    <tr>\n",
       "      <th>3</th>\n",
       "      <td>Good product,Good one,Nice,Really nice product...</td>\n",
       "      <td>77</td>\n",
       "    </tr>\n",
       "    <tr>\n",
       "      <th>4</th>\n",
       "      <td>As good as original,Decent,Good one for second...</td>\n",
       "      <td>415</td>\n",
       "    </tr>\n",
       "  </tbody>\n",
       "</table>\n",
       "</div>"
      ],
      "text/plain": [
       "                                        review_title  content_word_count\n",
       "0  Satisfied,Charging is really fast,Value for mo...                  60\n",
       "1  A Good Braided Cable for Your Type C Device,Go...                 201\n",
       "2  Good speed for earlier versions,Good Product,W...                  13\n",
       "3  Good product,Good one,Nice,Really nice product...                  77\n",
       "4  As good as original,Decent,Good one for second...                 415"
      ]
     },
     "execution_count": 226,
     "metadata": {},
     "output_type": "execute_result"
    }
   ],
   "source": [
    "import re\n",
    "import string\n",
    "import nltk\n",
    "from nltk.tokenize import word_tokenize\n",
    "from nltk.corpus import stopwords\n",
    "from nltk.tokenize import word_tokenize\n",
    "from nltk.stem import SnowballStemmer\n",
    "from nltk.corpus import wordnet\n",
    "from nltk.stem import WordNetLemmatizer\n",
    "\n",
    "#change empty strings to na and drop\n",
    "data['review_content'].replace(' ', np.nan, inplace=True)\n",
    "data.dropna(subset=['review_content'], inplace=True)\n",
    "\n",
    "#word count\n",
    "print('\\n\\nA comparison of review title and the word count of the review content.')\n",
    "data['content_word_count'] = data['review_content'].apply(lambda x: len(str(x).split(' ')))                                                    \n",
    "\n",
    "data[['review_title', 'content_word_count']].head()"
   ]
  },
  {
   "cell_type": "code",
   "execution_count": 227,
   "metadata": {},
   "outputs": [
    {
     "name": "stderr",
     "output_type": "stream",
     "text": [
      "[nltk_data] Downloading package punkt to\n",
      "[nltk_data]     C:\\Users\\alish\\AppData\\Roaming\\nltk_data...\n",
      "[nltk_data]   Package punkt is already up-to-date!\n",
      "[nltk_data] Downloading package averaged_perceptron_tagger to\n",
      "[nltk_data]     C:\\Users\\alish\\AppData\\Roaming\\nltk_data...\n",
      "[nltk_data]   Package averaged_perceptron_tagger is already up-to-\n",
      "[nltk_data]       date!\n",
      "[nltk_data] Downloading package wordnet to\n",
      "[nltk_data]     C:\\Users\\alish\\AppData\\Roaming\\nltk_data...\n",
      "[nltk_data]   Package wordnet is already up-to-date!\n",
      "[nltk_data] Downloading package stopwords to\n",
      "[nltk_data]     C:\\Users\\alish\\AppData\\Roaming\\nltk_data...\n",
      "[nltk_data]   Package stopwords is already up-to-date!\n"
     ]
    },
    {
     "data": {
      "text/plain": [
       "True"
      ]
     },
     "execution_count": 227,
     "metadata": {},
     "output_type": "execute_result"
    }
   ],
   "source": [
    "nltk.download('punkt')\n",
    "nltk.download('averaged_perceptron_tagger')\n",
    "nltk.download('wordnet')\n",
    "nltk.download('stopwords')"
   ]
  },
  {
   "cell_type": "code",
   "execution_count": 228,
   "metadata": {},
   "outputs": [
    {
     "data": {
      "image/png": "[encoded data removed]",
      "text/plain": [
       "<Figure size 720x288 with 4 Axes>"
      ]
     },
     "metadata": {
      "needs_background": "light"
     },
     "output_type": "display_data"
    }
   ],
   "source": [
    "fig, ax = plt.subplots(1,4,figsize=(10,4))\n",
    "\n",
    "words = data[data['category_trunc'] == 'Electronics']['content_word_count']\n",
    "ax[0].hist(words, color=col_def[0])\n",
    "ax[0].set_title('Electronics')\n",
    "words = data[data['category_trunc'] == 'Computers&Accessories']['content_word_count']\n",
    "ax[1].hist(words, color=col_def[2])\n",
    "ax[1].set_title('Computers & Accessories')\n",
    "words = data[data['category_trunc'] == 'Home&Kitchen']['content_word_count']\n",
    "ax[2].hist(words, color=col_def[4])\n",
    "ax[2].set_title('Home & Kitchen')\n",
    "words = data[data['category_trunc'] == 'OfficeProducts']['content_word_count']\n",
    "ax[3].hist(words, color=col_def[6])\n",
    "ax[3].set_title('Office Products')\n",
    "\n",
    "fig.suptitle('Words per Reviews')\n",
    "\n",
    "plt.show()"
   ]
  },
  {
   "cell_type": "markdown",
   "metadata": {},
   "source": [
    "We can see that most reviews are less than 1000 words. ***Word count spread is similiar across product catagories.***"
   ]
  },
  {
   "cell_type": "markdown",
   "metadata": {},
   "source": [
    "#### Preprocess the Conent\n",
    "1. Remove puncuation, special letters, URLs\n",
    "2. Removing leading, trailing & extra whitespaces\n",
    "3. Correct typos, slang, abbreviations\n",
    "4. Remove stop words\n",
    "5. Stemming (i.e. remove prefix/suffic\n",
    "6. Lemmitization (i.e reduce word to base form)"
   ]
  },
  {
   "cell_type": "code",
   "execution_count": 229,
   "metadata": {},
   "outputs": [
    {
     "data": {
      "text/html": [
       "<div>\n",
       "<style scoped>\n",
       "    .dataframe tbody tr th:only-of-type {\n",
       "        vertical-align: middle;\n",
       "    }\n",
       "\n",
       "    .dataframe tbody tr th {\n",
       "        vertical-align: top;\n",
       "    }\n",
       "\n",
       "    .dataframe thead th {\n",
       "        text-align: right;\n",
       "    }\n",
       "</style>\n",
       "<table border=\"1\" class=\"dataframe\">\n",
       "  <thead>\n",
       "    <tr style=\"text-align: right;\">\n",
       "      <th></th>\n",
       "      <th>review_content</th>\n",
       "      <th>clean_content</th>\n",
       "    </tr>\n",
       "  </thead>\n",
       "  <tbody>\n",
       "    <tr>\n",
       "      <th>0</th>\n",
       "      <td>Looks durable Charging is fine tooNo complains...</td>\n",
       "      <td>look durabl charg fine toono complain charg re...</td>\n",
       "    </tr>\n",
       "    <tr>\n",
       "      <th>1</th>\n",
       "      <td>I ordered this cable to connect my phone to An...</td>\n",
       "      <td>order cabl connect phone android auto car cabl...</td>\n",
       "    </tr>\n",
       "    <tr>\n",
       "      <th>2</th>\n",
       "      <td>Not quite durable and sturdy,https://m.media-a...</td>\n",
       "      <td>quit durabl sturdi https medium amazon com ima...</td>\n",
       "    </tr>\n",
       "    <tr>\n",
       "      <th>3</th>\n",
       "      <td>Good product,long wire,Charges good,Nice,I bou...</td>\n",
       "      <td>good product long wire charg good nice buy cab...</td>\n",
       "    </tr>\n",
       "    <tr>\n",
       "      <th>4</th>\n",
       "      <td>Bought this instead of original apple, does th...</td>\n",
       "      <td>buy instead origin appl work r fast appl charg...</td>\n",
       "    </tr>\n",
       "  </tbody>\n",
       "</table>\n",
       "</div>"
      ],
      "text/plain": [
       "                                      review_content                                      clean_content\n",
       "0  Looks durable Charging is fine tooNo complains...  look durabl charg fine toono complain charg re...\n",
       "1  I ordered this cable to connect my phone to An...  order cabl connect phone android auto car cabl...\n",
       "2  Not quite durable and sturdy,https://m.media-a...  quit durabl sturdi https medium amazon com ima...\n",
       "3  Good product,long wire,Charges good,Nice,I bou...  good product long wire charg good nice buy cab...\n",
       "4  Bought this instead of original apple, does th...  buy instead origin appl work r fast appl charg..."
      ]
     },
     "execution_count": 229,
     "metadata": {},
     "output_type": "execute_result"
    }
   ],
   "source": [
    "def preprocess(text):\n",
    "    text = text.lower()\n",
    "    text=text.strip()\n",
    "    text=re.compile('<.*?!>@#%^&()\"').sub('', text)\n",
    "    text = re.compile('[%s]' % re.escape(string.punctuation)).sub(' ', text)\n",
    "    text = re.sub('\\s+', ' ', text)\n",
    "    text=re.sub(r'[^\\w\\s]', '', str(text).lower().strip())\n",
    "    text = re.sub(r'\\d',' ',text) \n",
    "    text = re.sub(r'\\s+',' ',text) \n",
    "    return text\n",
    "\n",
    "def stopword(string):\n",
    "    a = [i for i in string.split() if i not in stopwords.words('english')]\n",
    "    return ' '.join(a)\n",
    "\n",
    "stemmer = SnowballStemmer('english')\n",
    "\n",
    "def stemming(string):\n",
    "    a = [stemmer.stem(i) for i in string.split()]\n",
    "    return ' '.join(a)\n",
    "\n",
    "\n",
    "\n",
    "wl = WordNetLemmatizer()\n",
    "\n",
    "# This is a helper function to map NTLK position tags\n",
    "def get_wordnet_pos(tag):\n",
    "    if tag.startswith('J'):\n",
    "        return wordnet.ADJ\n",
    "    elif tag.startswith('V'):\n",
    "        return wordnet.VERB\n",
    "    elif tag.startswith('N'):\n",
    "        return wordnet.NOUN\n",
    "    elif tag.startswith('R'):\n",
    "        return wordnet.ADV\n",
    "    else:\n",
    "        return wordnet.NOUN\n",
    "# Tokenize the sentence\n",
    "def lemmatizer(string):\n",
    "    word_pos_tags = nltk.pos_tag(word_tokenize(string)) # Get position tags\n",
    "    a=[wl.lemmatize(tag[0], get_wordnet_pos(tag[1])) for idx, tag in enumerate(word_pos_tags)]\n",
    "    return \" \".join(a)\n",
    "\n",
    "    \n",
    "def finalpreprocess(string):\n",
    "    return lemmatizer(stemming(stopword(preprocess(string))))\n",
    "\n",
    "data['clean_content'] = data['review_content'].apply(lambda x: finalpreprocess(x))\n",
    "data[['review_content', 'clean_content']].head()"
   ]
  },
  {
   "cell_type": "markdown",
   "metadata": {},
   "source": [
    "#### Now we will start to prepare the model."
   ]
  },
  {
   "cell_type": "code",
   "execution_count": 230,
   "metadata": {},
   "outputs": [],
   "source": [
    "\n",
    "from keras_preprocessing.text import Tokenizer\n",
    "from keras_preprocessing.sequence import pad_sequences\n",
    "from keras.models import Sequential\n",
    "from keras.layers import Dense, Normalization, Conv1D, MaxPooling1D, Flatten, Reshape\n",
    "from sklearn.model_selection import train_test_split\n",
    "from sklearn.metrics import mean_squared_error "
   ]
  },
  {
   "cell_type": "code",
   "execution_count": 231,
   "metadata": {},
   "outputs": [
    {
     "name": "stdout",
     "output_type": "stream",
     "text": [
      "Cleaned data tokenized and converted into prproccessing sequences.\n",
      "[[0 1 1 ... 0 0 0]\n",
      " [0 2 0 ... 0 0 0]\n",
      " [0 0 1 ... 0 0 0]\n",
      " ...\n",
      " [0 1 1 ... 0 0 0]\n",
      " [0 0 0 ... 0 0 0]\n",
      " [0 1 1 ... 6 6 6]]\n"
     ]
    }
   ],
   "source": [
    "tokenizer = Tokenizer(split=' ')\n",
    "a = tokenizer.fit_on_texts(data['clean_content'].values)\n",
    "X = tokenizer.texts_to_sequences(data['clean_content'].values)\n",
    "X = tokenizer.sequences_to_matrix(X, mode='tfidf')\n",
    "X = pad_sequences(X)\n",
    "\n",
    "print('Cleaned data tokenized and converted into prproccessing sequences.')\n",
    "print(X)"
   ]
  },
  {
   "cell_type": "code",
   "execution_count": 232,
   "metadata": {},
   "outputs": [],
   "source": [
    "#train/test split\n",
    "X_train, X_test, y_train, y_test = train_test_split(X, data['rating'], test_size=0.25, random_state=5)"
   ]
  },
  {
   "cell_type": "code",
   "execution_count": 234,
   "metadata": {},
   "outputs": [
    {
     "name": "stdout",
     "output_type": "stream",
     "text": [
      "Model: \"sequential_28\"\n",
      "_________________________________________________________________\n",
      " Layer (type)                Output Shape              Param #   \n",
      "=================================================================\n",
      " normalization_34 (Normaliza  (None, 9202)             3         \n",
      " tion)                                                           \n",
      "                                                                 \n",
      " reshape_9 (Reshape)         (None, 43, 214)           0         \n",
      "                                                                 \n",
      " dense_91 (Dense)            (None, 43, 128)           27520     \n",
      "                                                                 \n",
      " conv1d_18 (Conv1D)          (None, 43, 128)           82048     \n",
      "                                                                 \n",
      " max_pooling1d_16 (MaxPoolin  (None, 9, 128)           0         \n",
      " g1D)                                                            \n",
      "                                                                 \n",
      " flatten_15 (Flatten)        (None, 1152)              0         \n",
      "                                                                 \n",
      " dense_92 (Dense)            (None, 128)               147584    \n",
      "                                                                 \n",
      " dense_93 (Dense)            (None, 1)                 129       \n",
      "                                                                 \n",
      "=================================================================\n",
      "Total params: 257,284\n",
      "Trainable params: 257,281\n",
      "Non-trainable params: 3\n",
      "_________________________________________________________________\n"
     ]
    }
   ],
   "source": [
    "#Engineer Model\n",
    "hparams = {\n",
    "    \"batch_size\": 128,\n",
    "    \"cnn_filter_sizes\": [128, 128, 128],\n",
    "    \"cnn_kernel_sizes\": [5, 5, 5],\n",
    "    \"cnn_pooling_sizes\": [5, 5, 40],\n",
    "    \"constraint_learning_rate\": 0.01,\n",
    "    \"embedding_dim\": 100,\n",
    "    \"embedding_trainable\": False,\n",
    "    \"learning_rate\": 0.005,\n",
    "    \"max_num_words\": 10000,\n",
    "    \"max_sequence_length\": 250\n",
    "}\n",
    "\n",
    "model = Sequential([\n",
    "    Normalization(input_shape=[X.shape[1],], axis=None),\n",
    "    Reshape((43, 214), input_shape=(X.shape[1],)),\n",
    "    Dense(128, activation='relu'),\n",
    "    Conv1D(128, 5, activation='relu', padding='same'),\n",
    "    MaxPooling1D(5, padding='same'),\n",
    "    Flatten(),\n",
    "    Dense(128, activation='relu'),\n",
    "    Dense(1)\n",
    "])\n",
    "\n",
    "model.compile(loss='mean_absolute_error', optimizer=\"adam\")\n",
    "model.summary()"
   ]
  },
  {
   "cell_type": "code",
   "execution_count": 235,
   "metadata": {},
   "outputs": [
    {
     "name": "stdout",
     "output_type": "stream",
     "text": [
      "Epoch 1/100\n",
      "35/35 [==============================] - 1s 13ms/step - loss: 1.5787\n",
      "Epoch 2/100\n",
      "35/35 [==============================] - 0s 13ms/step - loss: 0.5562\n",
      "Epoch 3/100\n",
      "35/35 [==============================] - 0s 12ms/step - loss: 0.3326\n",
      "Epoch 4/100\n",
      "35/35 [==============================] - 0s 12ms/step - loss: 0.2294\n",
      "Epoch 5/100\n",
      "35/35 [==============================] - 0s 12ms/step - loss: 0.2433\n",
      "Epoch 6/100\n",
      "35/35 [==============================] - 0s 11ms/step - loss: 0.1771\n",
      "Epoch 7/100\n",
      "35/35 [==============================] - 0s 12ms/step - loss: 0.1578\n",
      "Epoch 8/100\n",
      "35/35 [==============================] - 0s 13ms/step - loss: 0.1468\n",
      "Epoch 9/100\n",
      "35/35 [==============================] - 3s 94ms/step - loss: 0.1481\n",
      "Epoch 10/100\n",
      "35/35 [==============================] - 0s 11ms/step - loss: 0.1625\n",
      "Epoch 11/100\n",
      "35/35 [==============================] - 0s 12ms/step - loss: 0.1390\n",
      "Epoch 12/100\n",
      "35/35 [==============================] - 0s 12ms/step - loss: 0.1263\n",
      "Epoch 13/100\n",
      "35/35 [==============================] - 0s 13ms/step - loss: 0.1132\n",
      "Epoch 14/100\n",
      "35/35 [==============================] - 0s 11ms/step - loss: 0.1121\n",
      "Epoch 15/100\n",
      "35/35 [==============================] - 0s 12ms/step - loss: 0.1091\n",
      "Epoch 16/100\n",
      "35/35 [==============================] - 0s 11ms/step - loss: 0.0874\n",
      "Epoch 17/100\n",
      "35/35 [==============================] - 2s 67ms/step - loss: 0.0888\n",
      "Epoch 18/100\n",
      "35/35 [==============================] - 0s 13ms/step - loss: 0.0929\n",
      "Epoch 19/100\n",
      "35/35 [==============================] - 0s 11ms/step - loss: 0.0981\n",
      "Epoch 20/100\n",
      "35/35 [==============================] - 0s 12ms/step - loss: 0.0975\n",
      "Epoch 21/100\n",
      "35/35 [==============================] - 0s 12ms/step - loss: 0.1151\n",
      "Epoch 22/100\n",
      "35/35 [==============================] - 0s 12ms/step - loss: 0.0988\n",
      "Epoch 23/100\n",
      "35/35 [==============================] - 0s 12ms/step - loss: 0.0888\n",
      "Epoch 24/100\n",
      "35/35 [==============================] - 0s 13ms/step - loss: 0.0941\n",
      "Epoch 25/100\n",
      "35/35 [==============================] - 3s 93ms/step - loss: 0.0897\n",
      "Epoch 26/100\n",
      "35/35 [==============================] - 0s 11ms/step - loss: 0.0747\n",
      "Epoch 27/100\n",
      "35/35 [==============================] - 0s 11ms/step - loss: 0.0902\n",
      "Epoch 28/100\n",
      "35/35 [==============================] - 0s 13ms/step - loss: 0.0875\n",
      "Epoch 29/100\n",
      "35/35 [==============================] - 0s 12ms/step - loss: 0.0774\n",
      "Epoch 30/100\n",
      "35/35 [==============================] - 0s 11ms/step - loss: 0.0947\n",
      "Epoch 31/100\n",
      "35/35 [==============================] - 0s 11ms/step - loss: 0.0785\n",
      "Epoch 32/100\n",
      "35/35 [==============================] - 0s 12ms/step - loss: 0.0722\n",
      "Epoch 33/100\n",
      "35/35 [==============================] - 2s 68ms/step - loss: 0.0713\n",
      "Epoch 34/100\n",
      "35/35 [==============================] - 0s 11ms/step - loss: 0.0773\n",
      "Epoch 35/100\n",
      "35/35 [==============================] - 0s 11ms/step - loss: 0.0714\n",
      "Epoch 36/100\n",
      "35/35 [==============================] - 0s 12ms/step - loss: 0.0743\n",
      "Epoch 37/100\n",
      "35/35 [==============================] - 0s 11ms/step - loss: 0.0793\n",
      "Epoch 38/100\n",
      "35/35 [==============================] - 0s 14ms/step - loss: 0.0722\n",
      "Epoch 39/100\n",
      "35/35 [==============================] - 1s 15ms/step - loss: 0.0754\n",
      "Epoch 40/100\n",
      "35/35 [==============================] - 1s 15ms/step - loss: 0.0625\n",
      "Epoch 41/100\n",
      "35/35 [==============================] - 1s 14ms/step - loss: 0.0922\n",
      "Epoch 42/100\n",
      "35/35 [==============================] - 1s 14ms/step - loss: 0.0846\n",
      "Epoch 43/100\n",
      "35/35 [==============================] - 1s 15ms/step - loss: 0.0961\n",
      "Epoch 44/100\n",
      "35/35 [==============================] - 1s 16ms/step - loss: 0.0768\n",
      "Epoch 45/100\n",
      "35/35 [==============================] - 0s 14ms/step - loss: 0.0816\n",
      "Epoch 46/100\n",
      "35/35 [==============================] - 1s 14ms/step - loss: 0.0705\n",
      "Epoch 47/100\n",
      "35/35 [==============================] - 1s 14ms/step - loss: 0.0636\n",
      "Epoch 48/100\n",
      "35/35 [==============================] - 1s 15ms/step - loss: 0.0634\n",
      "Epoch 49/100\n",
      "35/35 [==============================] - 1s 16ms/step - loss: 0.0646\n",
      "Epoch 50/100\n",
      "35/35 [==============================] - 1s 15ms/step - loss: 0.0654\n",
      "Epoch 51/100\n",
      "35/35 [==============================] - 1s 15ms/step - loss: 0.0783\n",
      "Epoch 52/100\n",
      "35/35 [==============================] - 0s 14ms/step - loss: 0.0784\n",
      "Epoch 53/100\n",
      "35/35 [==============================] - 1s 15ms/step - loss: 0.0729\n",
      "Epoch 54/100\n",
      "35/35 [==============================] - 1s 15ms/step - loss: 0.0815\n",
      "Epoch 55/100\n",
      "35/35 [==============================] - 1s 16ms/step - loss: 0.0725\n",
      "Epoch 56/100\n",
      "35/35 [==============================] - 0s 14ms/step - loss: 0.0702\n",
      "Epoch 57/100\n",
      "35/35 [==============================] - 1s 14ms/step - loss: 0.0577\n",
      "Epoch 58/100\n",
      "35/35 [==============================] - 1s 14ms/step - loss: 0.0678\n",
      "Epoch 59/100\n",
      "35/35 [==============================] - 1s 15ms/step - loss: 0.0882\n",
      "Epoch 60/100\n",
      "35/35 [==============================] - 0s 14ms/step - loss: 0.0623\n",
      "Epoch 61/100\n",
      "35/35 [==============================] - 1s 16ms/step - loss: 0.0571\n",
      "Epoch 62/100\n",
      "35/35 [==============================] - 1s 14ms/step - loss: 0.0672\n",
      "Epoch 63/100\n",
      "35/35 [==============================] - 1s 15ms/step - loss: 0.0606\n",
      "Epoch 64/100\n",
      "35/35 [==============================] - 1s 15ms/step - loss: 0.0531\n",
      "Epoch 65/100\n",
      "35/35 [==============================] - 1s 15ms/step - loss: 0.0660\n",
      "Epoch 66/100\n",
      "35/35 [==============================] - 1s 17ms/step - loss: 0.0706\n",
      "Epoch 67/100\n",
      "35/35 [==============================] - 1s 14ms/step - loss: 0.0593\n",
      "Epoch 68/100\n",
      "35/35 [==============================] - 1s 14ms/step - loss: 0.0790\n",
      "Epoch 69/100\n",
      "35/35 [==============================] - 1s 14ms/step - loss: 0.0887\n",
      "Epoch 70/100\n",
      "35/35 [==============================] - 1s 15ms/step - loss: 0.0684\n",
      "Epoch 71/100\n",
      "35/35 [==============================] - 1s 16ms/step - loss: 0.0499\n",
      "Epoch 72/100\n",
      "35/35 [==============================] - 1s 14ms/step - loss: 0.0548\n",
      "Epoch 73/100\n",
      "35/35 [==============================] - 1s 16ms/step - loss: 0.0624\n",
      "Epoch 74/100\n",
      "35/35 [==============================] - 1s 14ms/step - loss: 0.0546\n",
      "Epoch 75/100\n",
      "35/35 [==============================] - 1s 14ms/step - loss: 0.0563\n",
      "Epoch 76/100\n",
      "35/35 [==============================] - 1s 16ms/step - loss: 0.0515\n",
      "Epoch 77/100\n",
      "35/35 [==============================] - 1s 15ms/step - loss: 0.0611\n",
      "Epoch 78/100\n",
      "35/35 [==============================] - 0s 14ms/step - loss: 0.0538\n",
      "Epoch 79/100\n",
      "35/35 [==============================] - 1s 14ms/step - loss: 0.0586\n",
      "Epoch 80/100\n",
      "35/35 [==============================] - 1s 14ms/step - loss: 0.0537\n",
      "Epoch 81/100\n",
      "35/35 [==============================] - 0s 14ms/step - loss: 0.0485\n",
      "Epoch 82/100\n",
      "35/35 [==============================] - 1s 16ms/step - loss: 0.0509\n",
      "Epoch 83/100\n",
      "35/35 [==============================] - 0s 14ms/step - loss: 0.0463\n",
      "Epoch 84/100\n",
      "35/35 [==============================] - 0s 14ms/step - loss: 0.0532\n",
      "Epoch 85/100\n",
      "35/35 [==============================] - 1s 14ms/step - loss: 0.0617\n",
      "Epoch 86/100\n",
      "35/35 [==============================] - 1s 15ms/step - loss: 0.0600\n",
      "Epoch 87/100\n",
      "35/35 [==============================] - 1s 16ms/step - loss: 0.0491\n",
      "Epoch 88/100\n",
      "35/35 [==============================] - 1s 15ms/step - loss: 0.0521\n",
      "Epoch 89/100\n",
      "35/35 [==============================] - 1s 15ms/step - loss: 0.0736\n",
      "Epoch 90/100\n",
      "35/35 [==============================] - 1s 14ms/step - loss: 0.0639\n",
      "Epoch 91/100\n",
      "35/35 [==============================] - 1s 15ms/step - loss: 0.0573\n",
      "Epoch 92/100\n",
      "35/35 [==============================] - 1s 17ms/step - loss: 0.0656\n",
      "Epoch 93/100\n",
      "35/35 [==============================] - 1s 15ms/step - loss: 0.0623\n",
      "Epoch 94/100\n",
      "35/35 [==============================] - 0s 14ms/step - loss: 0.0482\n",
      "Epoch 95/100\n",
      "35/35 [==============================] - 1s 14ms/step - loss: 0.0499\n",
      "Epoch 96/100\n",
      "35/35 [==============================] - 1s 15ms/step - loss: 0.0503\n",
      "Epoch 97/100\n",
      "35/35 [==============================] - 1s 17ms/step - loss: 0.0546\n",
      "Epoch 98/100\n",
      "35/35 [==============================] - 1s 14ms/step - loss: 0.0481\n",
      "Epoch 99/100\n",
      "35/35 [==============================] - 1s 15ms/step - loss: 0.0496\n",
      "Epoch 100/100\n",
      "35/35 [==============================] - 0s 14ms/step - loss: 0.0513\n"
     ]
    },
    {
     "data": {
      "text/plain": [
       "<keras.callbacks.History at 0x22319cdb358>"
      ]
     },
     "execution_count": 235,
     "metadata": {},
     "output_type": "execute_result"
    }
   ],
   "source": [
    "#Model Training\n",
    "model.fit(X_train, y_train, epochs=100)"
   ]
  },
  {
   "cell_type": "code",
   "execution_count": 236,
   "metadata": {},
   "outputs": [
    {
     "name": "stdout",
     "output_type": "stream",
     "text": [
      "Keras weights file (<HDF5 file \"variables.h5\" (mode r+)>) saving:\n",
      "...layers\\conv1d\n",
      "......vars\n",
      ".........0\n",
      ".........1\n",
      "...layers\\dense\n",
      "......vars\n",
      ".........0\n",
      ".........1\n",
      "...layers\\dense_1\n",
      "......vars\n",
      ".........0\n",
      ".........1\n",
      "...layers\\dense_2\n",
      "......vars\n",
      ".........0\n",
      ".........1\n",
      "...layers\\flatten\n",
      "......vars\n",
      "...layers\\max_pooling1d\n",
      "......vars\n",
      "...layers\\normalization\n",
      "......vars\n",
      ".........0\n",
      ".........1\n",
      ".........2\n",
      "...layers\\reshape\n",
      "......vars\n",
      "...metrics\\mean\n",
      "......vars\n",
      ".........0\n",
      ".........1\n",
      "...optimizer\n",
      "......vars\n",
      ".........0\n",
      ".........1\n",
      ".........10\n",
      ".........11\n",
      ".........12\n",
      ".........13\n",
      ".........14\n",
      ".........15\n",
      ".........16\n",
      ".........2\n",
      ".........3\n",
      ".........4\n",
      ".........5\n",
      ".........6\n",
      ".........7\n",
      ".........8\n",
      ".........9\n",
      "...vars\n",
      "Keras model archive saving:\n",
      "File Name                                             Modified             Size\n",
      "config.json                                    2023-10-15 05:02:44         3039\n",
      "metadata.json                                  2023-10-15 05:02:44           64\n",
      "variables.h5                                   2023-10-15 05:02:44      3120200\n"
     ]
    }
   ],
   "source": [
    "#save model locally\n",
    "import pickle\n",
    "with open('model1.pk1', 'wb') as file:  \n",
    "    pickle.dump(model, file)"
   ]
  },
  {
   "cell_type": "markdown",
   "metadata": {},
   "source": [
    "<hr>"
   ]
  },
  {
   "cell_type": "markdown",
   "metadata": {},
   "source": [
    "### Model Testing\n"
   ]
  },
  {
   "cell_type": "code",
   "execution_count": 237,
   "metadata": {},
   "outputs": [
    {
     "name": "stdout",
     "output_type": "stream",
     "text": [
      "0.22499005496501923\n"
     ]
    }
   ],
   "source": [
    "score = model.evaluate(X_test, y_test, verbose = 0)\n",
    "\n",
    "print(score)"
   ]
  },
  {
   "cell_type": "code",
   "execution_count": 238,
   "metadata": {},
   "outputs": [
    {
     "name": "stdout",
     "output_type": "stream",
     "text": [
      "46/46 [==============================] - 0s 6ms/step\n"
     ]
    },
    {
     "data": {
      "text/plain": [
       "0.030665360464767966"
      ]
     },
     "execution_count": 238,
     "metadata": {},
     "output_type": "execute_result"
    }
   ],
   "source": [
    "y_true = data['rating']\n",
    "y_pred = model.predict(X)\n",
    "\n",
    "mean_squared_error(y_true, y_pred)"
   ]
  },
  {
   "cell_type": "code",
   "execution_count": 239,
   "metadata": {},
   "outputs": [
    {
     "name": "stdout",
     "output_type": "stream",
     "text": [
      "1/1 [==============================] - 0s 25ms/step\n"
     ]
    },
    {
     "data": {
      "text/plain": [
       "array([[4.1082983],\n",
       "       [3.9368284],\n",
       "       [3.7987459],\n",
       "       [4.0905375],\n",
       "       [4.1384726]], dtype=float32)"
      ]
     },
     "execution_count": 239,
     "metadata": {},
     "output_type": "execute_result"
    }
   ],
   "source": [
    "model.predict(X[5:10])"
   ]
  }
 ],
 "metadata": {
  "kernelspec": {
   "display_name": "Python 3",
   "language": "python",
   "name": "python3"
  },
  "language_info": {
   "codemirror_mode": {
    "name": "ipython",
    "version": 3
   },
   "file_extension": ".py",
   "mimetype": "text/x-python",
   "name": "python",
   "nbconvert_exporter": "python",
   "pygments_lexer": "ipython3",
   "version": "3.7.3"
  }
 },
 "nbformat": 4,
 "nbformat_minor": 2
}
